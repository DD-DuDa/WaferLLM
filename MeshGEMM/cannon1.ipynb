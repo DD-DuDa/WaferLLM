{
 "cells": [
  {
   "cell_type": "code",
   "execution_count": 3,
   "metadata": {},
   "outputs": [],
   "source": [
    "import numpy as np\n",
    "\n",
    "def cannon_matrix_multiply(A, B, grid_dim):\n",
    "    \"\"\"Perform matrix multiplication using Cannon's algorithm.\n",
    "\n",
    "    Args:\n",
    "        A: Matrix A (np.array of shape (N,N))\n",
    "        B: Matrix B (np.array of shape (N,N))\n",
    "        grid_dim: Number of processors per row/column in the processor grid\n",
    "\n",
    "    Returns:\n",
    "        C: Resulting matrix from A @ B\n",
    "    \"\"\"\n",
    "    N = A.shape[0]\n",
    "    assert A.shape == B.shape and N % grid_dim == 0, \"Invalid matrix size or grid\"\n",
    "\n",
    "    block_size = N // grid_dim\n",
    "    C = np.zeros_like(A, dtype=float)\n",
    "\n",
    "    # Divide matrices into blocks for each processor\n",
    "    A_blocks = np.zeros((grid_dim, grid_dim, block_size, block_size))\n",
    "    B_blocks = np.zeros((grid_dim, grid_dim, block_size, block_size))\n",
    "    \n",
    "    # Initialize blocks\n",
    "    for i in range(grid_dim):\n",
    "        for j in range(grid_dim):\n",
    "            A_blocks[i, j] = A[i*block_size:(i+1)*block_size, j*block_size:(j+1)*block_size]\n",
    "            B_blocks[i, j] = B[i*block_size:(i+1)*block_size, j*block_size:(j+1)*block_size]\n",
    "\n",
    "    # Initial skewing\n",
    "    # Shift row i of A left by i positions\n",
    "    for i in range(grid_dim):\n",
    "        A_blocks[i] = np.roll(A_blocks[i], -i, axis=0)\n",
    "    \n",
    "    # Shift column j of B up by j positions  \n",
    "    for j in range(grid_dim):\n",
    "        B_blocks[:, j] = np.roll(B_blocks[:, j], -j, axis=0)\n",
    "\n",
    "    # Main computation loop\n",
    "    for step in range(grid_dim):\n",
    "        # Each processor computes its local matrix multiplication\n",
    "        for i in range(grid_dim):\n",
    "            for j in range(grid_dim):\n",
    "                C[i*block_size:(i+1)*block_size, j*block_size:(j+1)*block_size] += \\\n",
    "                    A_blocks[i, j] @ B_blocks[i, j]\n",
    "\n",
    "        # Shift all rows of A left by 1 position (except in the last iteration)\n",
    "        if step < grid_dim - 1:\n",
    "            for i in range(grid_dim):\n",
    "                A_blocks[i] = np.roll(A_blocks[i], -1, axis=0)\n",
    "            \n",
    "            # Shift all columns of B up by 1 position\n",
    "            for j in range(grid_dim):\n",
    "                B_blocks[:, j] = np.roll(B_blocks[:, j], -1, axis=0)\n",
    "\n",
    "    return C"
   ]
  },
  {
   "cell_type": "code",
   "execution_count": 9,
   "metadata": {},
   "outputs": [
    {
     "name": "stdout",
     "output_type": "stream",
     "text": [
      "SUCCESS: C == C_ref\n"
     ]
    }
   ],
   "source": [
    "N = 8\n",
    "P = 4  # 2x2 processor grid\n",
    "\n",
    "# Use fixed values for reproducible testing\n",
    "np.random.seed(42)\n",
    "A = np.arange(N*N).reshape(N, N)\n",
    "B = np.arange(N*N).reshape(N, N)\n",
    "\n",
    "\n",
    "C = cannon_matrix_multiply(A, B, P)\n",
    "\n",
    "C_ref = np.matmul(A, B)\n",
    "\n",
    "np.testing.assert_allclose(C, C_ref, atol=1e-10)\n",
    "print(\"SUCCESS: C == C_ref\")"
   ]
  },
  {
   "cell_type": "code",
   "execution_count": 10,
   "metadata": {},
   "outputs": [
    {
     "name": "stdout",
     "output_type": "stream",
     "text": [
      "[[ 0  1  2  3  4  5  6  7]\n",
      " [ 8  9 10 11 12 13 14 15]\n",
      " [16 17 18 19 20 21 22 23]\n",
      " [24 25 26 27 28 29 30 31]\n",
      " [32 33 34 35 36 37 38 39]\n",
      " [40 41 42 43 44 45 46 47]\n",
      " [48 49 50 51 52 53 54 55]\n",
      " [56 57 58 59 60 61 62 63]]\n"
     ]
    }
   ],
   "source": [
    "print(A)"
   ]
  },
  {
   "cell_type": "code",
   "execution_count": 32,
   "metadata": {},
   "outputs": [
    {
     "data": {
      "text/plain": [
       "array([[ 2.,  3.],\n",
       "       [10., 11.]])"
      ]
     },
     "execution_count": 32,
     "metadata": {},
     "output_type": "execute_result"
    }
   ],
   "source": [
    "A_blocks[0,1]"
   ]
  },
  {
   "cell_type": "code",
   "execution_count": 13,
   "metadata": {},
   "outputs": [
    {
     "name": "stdout",
     "output_type": "stream",
     "text": [
      "block_size: 2\n"
     ]
    }
   ],
   "source": [
    "grid_dim = P\n",
    "block_size = N // grid_dim\n",
    "print(f\"block_size: {block_size}\")\n",
    "\n",
    "# Divide matrices into blocks for each processor\n",
    "A_blocks = np.zeros((grid_dim, grid_dim, block_size, block_size))\n",
    "B_blocks = np.zeros((grid_dim, grid_dim, block_size, block_size))\n",
    "\n",
    "for i in range(grid_dim):\n",
    "    for j in range(grid_dim):\n",
    "        A_blocks[i, j] = A[i*block_size:(i+1)*block_size, j*block_size:(j+1)*block_size]\n",
    "        B_blocks[i, j] = B[i*block_size:(i+1)*block_size, j*block_size:(j+1)*block_size]\n"
   ]
  },
  {
   "cell_type": "code",
   "execution_count": 23,
   "metadata": {},
   "outputs": [],
   "source": [
    "# Shift column j of B up by j positions  \n",
    "for j in range(grid_dim):\n",
    "    B_blocks[:, j] = np.roll(B_blocks[:, j], -j, axis=0)"
   ]
  },
  {
   "cell_type": "code",
   "execution_count": 26,
   "metadata": {},
   "outputs": [
    {
     "data": {
      "text/plain": [
       "array([[[16., 17.],\n",
       "        [24., 25.]],\n",
       "\n",
       "       [[34., 35.],\n",
       "        [42., 43.]],\n",
       "\n",
       "       [[52., 53.],\n",
       "        [60., 61.]],\n",
       "\n",
       "       [[ 6.,  7.],\n",
       "        [14., 15.]]])"
      ]
     },
     "execution_count": 26,
     "metadata": {},
     "output_type": "execute_result"
    }
   ],
   "source": [
    "B_blocks[1]"
   ]
  },
  {
   "cell_type": "code",
   "execution_count": 18,
   "metadata": {},
   "outputs": [],
   "source": [
    "for i in range(grid_dim):\n",
    "    A_blocks[i] = np.roll(A_blocks[i], -i, axis=0)"
   ]
  },
  {
   "cell_type": "code",
   "execution_count": 25,
   "metadata": {},
   "outputs": [
    {
     "data": {
      "text/plain": [
       "array([[[54., 55.],\n",
       "        [62., 63.]],\n",
       "\n",
       "       [[48., 49.],\n",
       "        [56., 57.]],\n",
       "\n",
       "       [[50., 51.],\n",
       "        [58., 59.]],\n",
       "\n",
       "       [[52., 53.],\n",
       "        [60., 61.]]])"
      ]
     },
     "execution_count": 25,
     "metadata": {},
     "output_type": "execute_result"
    }
   ],
   "source": [
    "A_blocks[3]"
   ]
  },
  {
   "cell_type": "code",
   "execution_count": 30,
   "metadata": {},
   "outputs": [
    {
     "data": {
      "text/plain": [
       "array([[0., 1.],\n",
       "       [8., 9.]])"
      ]
     },
     "execution_count": 30,
     "metadata": {},
     "output_type": "execute_result"
    }
   ],
   "source": []
  }
 ],
 "metadata": {
  "kernelspec": {
   "display_name": "tetris",
   "language": "python",
   "name": "python3"
  },
  "language_info": {
   "codemirror_mode": {
    "name": "ipython",
    "version": 3
   },
   "file_extension": ".py",
   "mimetype": "text/x-python",
   "name": "python",
   "nbconvert_exporter": "python",
   "pygments_lexer": "ipython3",
   "version": "3.10.16"
  }
 },
 "nbformat": 4,
 "nbformat_minor": 2
}
